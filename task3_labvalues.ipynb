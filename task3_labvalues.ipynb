{
 "cells": [
  {
   "cell_type": "markdown",
   "metadata": {},
   "source": [
    "# Task 3 - US Healthcare Readmissions and Mortality\n",
    "Author: [Adrian Vega](https://github.com/adriacv17) <br >Respository: [datafun-06-projects](https://github.com/adriacv17/datafun-06-projects) <br> Data: 09/28/2023 <br>Custom Exporatory Data Project"
   ]
  },
  {
   "cell_type": "markdown",
   "metadata": {},
   "source": [
    "## Section 1-Load - Read from a data file into a pandas DataFrame."
   ]
  },
  {
   "cell_type": "code",
   "execution_count": null,
   "metadata": {},
   "outputs": [],
   "source": [
    "import pandas as pd # import pandas library\n",
    "import numpy as np # import numpy library\n",
    "\n",
    "healthcaredf = pd.read_csv('Readmissions_and_Deaths_-_Hospital.csv', index_col=0) # Create DataFrame from csv file\n",
    "\n",
    "healthcaredf # call healthcare DataFrame"
   ]
  },
  {
   "cell_type": "markdown",
   "metadata": {},
   "source": [
    "## Section 2-View - Display the first 5 rows and the last 5 rows."
   ]
  },
  {
   "cell_type": "code",
   "execution_count": null,
   "metadata": {},
   "outputs": [],
   "source": [
    "healthcaredf.head(5) #display first 5 rows"
   ]
  },
  {
   "cell_type": "code",
   "execution_count": null,
   "metadata": {},
   "outputs": [],
   "source": [
    "healthcaredf.tail(5) #display last 5 rows"
   ]
  },
  {
   "cell_type": "markdown",
   "metadata": {},
   "source": [
    "## Section 3-Describe: Use the DataFrame describe() function to calculate basic descriptive statistics for all numeric columns. "
   ]
  },
  {
   "cell_type": "markdown",
   "metadata": {},
   "source": [
    "## Section 4-Series: Use the Series method describe() to calculate the descriptive stats for all category/text columns."
   ]
  },
  {
   "cell_type": "markdown",
   "metadata": {},
   "source": [
    "## Section 5-Unique: Use the Series method unique() to get unique category values. "
   ]
  },
  {
   "cell_type": "markdown",
   "metadata": {},
   "source": [
    "## Section 6-Histograms: Use the DataFrame's hist() function to create a histogram for each numerical column."
   ]
  },
  {
   "cell_type": "markdown",
   "metadata": {},
   "source": [
    "## Section 7-List: Get some of your information into a list. Process each item in the list (use for or comprehensions as you like). "
   ]
  },
  {
   "cell_type": "markdown",
   "metadata": {},
   "source": [
    "## Section 8-Filter: Use filter() to show only part of the information. "
   ]
  },
  {
   "cell_type": "markdown",
   "metadata": {},
   "source": [
    "## Section 9-Map: Use map() to transform some of the data."
   ]
  }
 ],
 "metadata": {
  "kernelspec": {
   "display_name": "Python (.venv)",
   "language": "python",
   "name": ".venv"
  },
  "language_info": {
   "codemirror_mode": {
    "name": "ipython",
    "version": 3
   },
   "file_extension": ".py",
   "mimetype": "text/x-python",
   "name": "python",
   "nbconvert_exporter": "python",
   "pygments_lexer": "ipython3",
   "version": "3.11.4"
  },
  "orig_nbformat": 4
 },
 "nbformat": 4,
 "nbformat_minor": 2
}
