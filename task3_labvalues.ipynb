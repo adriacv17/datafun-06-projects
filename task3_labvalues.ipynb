{
 "cells": [
  {
   "cell_type": "markdown",
   "metadata": {},
   "source": [
    "# Task 3 - US Healthcare Readmissions and Mortality\n",
    "Author: [Adrian Vega](https://github.com/adriacv17) <br >Respository: [datafun-06-projects](https://github.com/adriacv17/datafun-06-projects) <br> Data: 09/28/2023 <br>Custom Exporatory Data Project"
   ]
  },
  {
   "cell_type": "markdown",
   "metadata": {},
   "source": [
    "## Section 1-Load - Read from a data file into a pandas DataFrame."
   ]
  },
  {
   "cell_type": "code",
   "execution_count": null,
   "metadata": {},
   "outputs": [],
   "source": [
    "import pandas as pd # import pandas library\n",
    "import numpy as np # import numpy library\n",
    "import statistics as stats #import statistics library\n",
    "\n",
    "labvaluesdf = pd.read_csv('HepatitisCdata.csv', index_col=0) # Create DataFrame from csv file\n",
    "\n",
    "#rename columns for clarity on lab test\n",
    "labvaluesdf.columns = ['Category', 'Age', 'Sex', 'Albumin', 'Alkaline Phosphatase',\n",
    "                        'Alanine Transaminase', 'Aspartate Transamimase', 'Bilirubin',\n",
    "                          'Acetylcholinesterase', 'Cholesterol', 'Creatinine',\n",
    "                            'Gamma-Glutamyl Transferase', 'Proteins']\n",
    "\n",
    "labvaluesdf # call labvaluesdf DataFrame"
   ]
  },
  {
   "cell_type": "markdown",
   "metadata": {},
   "source": [
    "## Section 2-View - Display the first 5 rows and the last 5 rows."
   ]
  },
  {
   "cell_type": "code",
   "execution_count": null,
   "metadata": {},
   "outputs": [],
   "source": [
    "labvaluesdf.head(5) #display first 5 rows"
   ]
  },
  {
   "cell_type": "code",
   "execution_count": null,
   "metadata": {},
   "outputs": [],
   "source": [
    "labvaluesdf.tail(5) #display last 5 rows"
   ]
  },
  {
   "cell_type": "markdown",
   "metadata": {},
   "source": [
    "## Section 3-Describe: Use the DataFrame describe() function to calculate basic descriptive statistics for all numeric columns. "
   ]
  },
  {
   "cell_type": "code",
   "execution_count": null,
   "metadata": {},
   "outputs": [],
   "source": [
    "pd.set_option('display.precision', 2) # format for floating-point values\n",
    "\n",
    "labvaluesdf.describe()  # get basic descriptive statistics using describe() funtion using default numeric columns"
   ]
  },
  {
   "cell_type": "markdown",
   "metadata": {},
   "source": [
    "## Section 4-Series: Use the Series method describe() to calculate the descriptive stats for all category/text columns."
   ]
  },
  {
   "cell_type": "code",
   "execution_count": null,
   "metadata": {},
   "outputs": [],
   "source": [
    "# https://pandas.pydata.org/docs/reference/api/pandas.DataFrame.describe.html for help with library\n",
    "\n",
    "labvaluesdf.describe(exclude=[np.number]) #Excluding numeric columns from a DataFrame description."
   ]
  },
  {
   "cell_type": "code",
   "execution_count": null,
   "metadata": {},
   "outputs": [],
   "source": [
    "labvaluesdf.describe(include='object') #Including only objects from pandas.pydata.org"
   ]
  },
  {
   "cell_type": "markdown",
   "metadata": {},
   "source": [
    "## Section 5-Unique: Use the Series method unique() to get unique category values. "
   ]
  },
  {
   "cell_type": "code",
   "execution_count": null,
   "metadata": {},
   "outputs": [],
   "source": [
    "unique_category = labvaluesdf['Category'].unique() #Category/Type of the patient. Call all unique values\n",
    "print(unique_category)"
   ]
  },
  {
   "cell_type": "code",
   "execution_count": null,
   "metadata": {},
   "outputs": [],
   "source": [
    "unique_sex = labvaluesdf['Sex'].unique() # m = male, f = female,  Call all unique values\n",
    "print(unique_sex)"
   ]
  },
  {
   "cell_type": "markdown",
   "metadata": {},
   "source": [
    "## Section 6-Histograms: Use the DataFrame's hist() function to create a histogram for each numerical column."
   ]
  },
  {
   "cell_type": "code",
   "execution_count": null,
   "metadata": {},
   "outputs": [],
   "source": [
    "import matplotlib.pyplot as plt\n",
    "\n",
    "#enable Matplotlib support\n",
    "%matplotlib inline\n",
    "\n",
    "#Histogram for age as it does not have same y-axis label\n",
    "\n",
    "histogram = labvaluesdf['Age'].hist()\n",
    "plt.title('Histogram of Age') # set title\n",
    "plt.ylabel('Frequency') #label Y axis\n",
    "plt.xlabel('Age') #label X axis\n",
    "\n"
   ]
  },
  {
   "cell_type": "code",
   "execution_count": null,
   "metadata": {},
   "outputs": [],
   "source": [
    "#Histograms of laboratory tests\n",
    "\n",
    "columns = ['Albumin', 'Alkaline Phosphatase', 'Alanine Transaminase',\n",
    "            'Aspartate Transamimase', 'Bilirubin',\n",
    "            'Acetylcholinesterase', 'Cholesterol', 'Creatinine',\n",
    "            'Gamma-Glutamyl Transferase', 'Proteins'] # make list of columns for loop\n",
    "\n",
    "for col in columns: #loop through each column making a histogram\n",
    "    histogram = labvaluesdf.hist(col) # Produce histogram\n",
    "    \n",
    "    plt.title(f'Histogram of {col.title()}') # set title, use title function\n",
    "    plt.ylabel('Measurement of Lab Test') #label Y axis\n",
    "    plt.xlabel(col.title()) #label X axis, use title function"
   ]
  },
  {
   "cell_type": "markdown",
   "metadata": {},
   "source": [
    "## Section 7-List: Get some of your information into a list. Process each item in the list (use for or comprehensions as you like). "
   ]
  },
  {
   "cell_type": "code",
   "execution_count": null,
   "metadata": {},
   "outputs": [],
   "source": [
    "# Get information into lists\n",
    "\n",
    "abnormal_AST = [AST for AST in labvaluesdf['Aspartate Transamimase'].tolist() if AST > 34] # filter for AST levels greater than 34(abnormal)\n",
    "\n",
    "print(f'list of abnormal AST levels', (abnormal_AST))\n",
    "\n",
    "abnormal_ALT = [ALT for ALT in labvaluesdf['Alanine Transaminase'].tolist() if ALT > 35] #filter for ALT levels greater than 35(abnormal female range used)\n",
    "\n",
    "print(f'list of abnormal ALT levels', (abnormal_ALT))\n"
   ]
  },
  {
   "cell_type": "markdown",
   "metadata": {},
   "source": [
    "## Section 8-Filter: Use filter() to show only part of the information. "
   ]
  },
  {
   "cell_type": "code",
   "execution_count": 288,
   "metadata": {},
   "outputs": [
    {
     "data": {
      "text/html": [
       "<div>\n",
       "<style scoped>\n",
       "    .dataframe tbody tr th:only-of-type {\n",
       "        vertical-align: middle;\n",
       "    }\n",
       "\n",
       "    .dataframe tbody tr th {\n",
       "        vertical-align: top;\n",
       "    }\n",
       "\n",
       "    .dataframe thead th {\n",
       "        text-align: right;\n",
       "    }\n",
       "</style>\n",
       "<table border=\"1\" class=\"dataframe\">\n",
       "  <thead>\n",
       "    <tr style=\"text-align: right;\">\n",
       "      <th></th>\n",
       "      <th>Age</th>\n",
       "      <th>Sex</th>\n",
       "      <th>Alanine Transaminase</th>\n",
       "      <th>Aspartate Transamimase</th>\n",
       "      <th>Bilirubin</th>\n",
       "    </tr>\n",
       "  </thead>\n",
       "  <tbody>\n",
       "    <tr>\n",
       "      <th>1</th>\n",
       "      <td>32</td>\n",
       "      <td>m</td>\n",
       "      <td>7.7</td>\n",
       "      <td>22.1</td>\n",
       "      <td>7.5</td>\n",
       "    </tr>\n",
       "    <tr>\n",
       "      <th>2</th>\n",
       "      <td>32</td>\n",
       "      <td>m</td>\n",
       "      <td>18.0</td>\n",
       "      <td>24.7</td>\n",
       "      <td>3.9</td>\n",
       "    </tr>\n",
       "    <tr>\n",
       "      <th>3</th>\n",
       "      <td>32</td>\n",
       "      <td>m</td>\n",
       "      <td>36.2</td>\n",
       "      <td>52.6</td>\n",
       "      <td>6.1</td>\n",
       "    </tr>\n",
       "    <tr>\n",
       "      <th>4</th>\n",
       "      <td>32</td>\n",
       "      <td>m</td>\n",
       "      <td>30.6</td>\n",
       "      <td>22.6</td>\n",
       "      <td>18.9</td>\n",
       "    </tr>\n",
       "    <tr>\n",
       "      <th>5</th>\n",
       "      <td>32</td>\n",
       "      <td>m</td>\n",
       "      <td>32.6</td>\n",
       "      <td>24.8</td>\n",
       "      <td>9.6</td>\n",
       "    </tr>\n",
       "    <tr>\n",
       "      <th>...</th>\n",
       "      <td>...</td>\n",
       "      <td>...</td>\n",
       "      <td>...</td>\n",
       "      <td>...</td>\n",
       "      <td>...</td>\n",
       "    </tr>\n",
       "    <tr>\n",
       "      <th>611</th>\n",
       "      <td>62</td>\n",
       "      <td>f</td>\n",
       "      <td>5.9</td>\n",
       "      <td>110.3</td>\n",
       "      <td>50.0</td>\n",
       "    </tr>\n",
       "    <tr>\n",
       "      <th>612</th>\n",
       "      <td>64</td>\n",
       "      <td>f</td>\n",
       "      <td>2.9</td>\n",
       "      <td>44.4</td>\n",
       "      <td>20.0</td>\n",
       "    </tr>\n",
       "    <tr>\n",
       "      <th>613</th>\n",
       "      <td>64</td>\n",
       "      <td>f</td>\n",
       "      <td>3.5</td>\n",
       "      <td>99.0</td>\n",
       "      <td>48.0</td>\n",
       "    </tr>\n",
       "    <tr>\n",
       "      <th>614</th>\n",
       "      <td>46</td>\n",
       "      <td>f</td>\n",
       "      <td>39.0</td>\n",
       "      <td>62.0</td>\n",
       "      <td>20.0</td>\n",
       "    </tr>\n",
       "    <tr>\n",
       "      <th>615</th>\n",
       "      <td>59</td>\n",
       "      <td>f</td>\n",
       "      <td>100.0</td>\n",
       "      <td>80.0</td>\n",
       "      <td>12.0</td>\n",
       "    </tr>\n",
       "  </tbody>\n",
       "</table>\n",
       "<p>615 rows × 5 columns</p>\n",
       "</div>"
      ],
      "text/plain": [
       "     Age Sex  Alanine Transaminase  Aspartate Transamimase  Bilirubin\n",
       "1     32   m                   7.7                    22.1        7.5\n",
       "2     32   m                  18.0                    24.7        3.9\n",
       "3     32   m                  36.2                    52.6        6.1\n",
       "4     32   m                  30.6                    22.6       18.9\n",
       "5     32   m                  32.6                    24.8        9.6\n",
       "..   ...  ..                   ...                     ...        ...\n",
       "611   62   f                   5.9                   110.3       50.0\n",
       "612   64   f                   2.9                    44.4       20.0\n",
       "613   64   f                   3.5                    99.0       48.0\n",
       "614   46   f                  39.0                    62.0       20.0\n",
       "615   59   f                 100.0                    80.0       12.0\n",
       "\n",
       "[615 rows x 5 columns]"
      ]
     },
     "execution_count": 288,
     "metadata": {},
     "output_type": "execute_result"
    }
   ],
   "source": [
    "\n",
    "labvaluesdf.filter(['Age', 'Sex', 'Alanine Transaminase','Aspartate Transamimase', 'Bilirubin']) #filtered for big indicators of liver disease"
   ]
  },
  {
   "cell_type": "markdown",
   "metadata": {},
   "source": [
    "## Section 9-Map: Use map() to transform some of the data."
   ]
  }
 ],
 "metadata": {
  "kernelspec": {
   "display_name": "Python (.venv)",
   "language": "python",
   "name": ".venv"
  },
  "language_info": {
   "codemirror_mode": {
    "name": "ipython",
    "version": 3
   },
   "file_extension": ".py",
   "mimetype": "text/x-python",
   "name": "python",
   "nbconvert_exporter": "python",
   "pygments_lexer": "ipython3",
   "version": "3.11.4"
  },
  "orig_nbformat": 4
 },
 "nbformat": 4,
 "nbformat_minor": 2
}
